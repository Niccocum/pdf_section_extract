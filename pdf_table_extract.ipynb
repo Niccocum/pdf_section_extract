{
 "cells": [
  {
   "cell_type": "code",
   "execution_count": 4,
   "metadata": {},
   "outputs": [],
   "source": [
    "file_path = 'data/SuchtGPT_Angebot_nexus_2024-10-14.pdf'\n",
    "output_path = 'data/SuchtGPT_Angebot_nexus_2024-10-14.xlsx'"
   ]
  },
  {
   "cell_type": "code",
   "execution_count": 5,
   "metadata": {},
   "outputs": [],
   "source": [
    "import tabula.io\n",
    "import pandas as pd\n",
    "\n",
    "def pdf_to_excel(pdf_file_path, excel_file_path):\n",
    "    # Read PDF file\n",
    "    tables = tabula.io.read_pdf(pdf_file_path, pages='all')\n",
    "\n",
    "    # Write each table to a separate sheet in the Excel file\n",
    "    with pd.ExcelWriter(excel_file_path) as writer:\n",
    "        for i, table in enumerate(tables):\n",
    "            table.to_excel(writer, sheet_name=f'Sheet{i+1}')\n",
    "\n",
    "\n",
    "pdf_to_excel(file_path, output_path)"
   ]
  }
 ],
 "metadata": {
  "kernelspec": {
   "display_name": "nexus",
   "language": "python",
   "name": "python3"
  },
  "language_info": {
   "codemirror_mode": {
    "name": "ipython",
    "version": 3
   },
   "file_extension": ".py",
   "mimetype": "text/x-python",
   "name": "python",
   "nbconvert_exporter": "python",
   "pygments_lexer": "ipython3",
   "version": "3.13.1"
  }
 },
 "nbformat": 4,
 "nbformat_minor": 2
}
