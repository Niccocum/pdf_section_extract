{
 "cells": [
  {
   "cell_type": "code",
   "execution_count": 3,
   "metadata": {},
   "outputs": [],
   "source": [
    "file_path = \"data/Angebot_DigiBeSt_DIID_nexus_17.09.2021.pdf\""
   ]
  },
  {
   "cell_type": "code",
   "execution_count": null,
   "metadata": {},
   "outputs": [],
   "source": [
    "import pdfplumber\n",
    "import re\n",
    "from PyPDF2 import PdfReader, PdfWriter\n",
    "import os"
   ]
  },
  {
   "cell_type": "code",
   "execution_count": 5,
   "metadata": {},
   "outputs": [],
   "source": [
    "#Funktion um die Einträge im Inhalt(sverzeichnis zu finden)\n",
    "def extract_text_from_pdf(file_path):\n",
    "    import pdfplumber\n",
    "    with pdfplumber.open(file_path) as pdf:\n",
    "        for page in pdf.pages:\n",
    "            text = page.extract_text()\n",
    "            # Hier kann man nach dem Inhaltsverzeichnis suchen\n",
    "            if \"Inhalt\" in text:\n",
    "                return text.split(\"Inhalt\")[1]\n",
    "    return None\n",
    "\n",
    "text = extract_text_from_pdf(file_path)\n",
    "\n"
   ]
  },
  {
   "cell_type": "code",
   "execution_count": 6,
   "metadata": {},
   "outputs": [
    {
     "name": "stdout",
     "output_type": "stream",
     "text": [
      "\n",
      "2\n",
      "1. Gegenstand des Angebots ........................................................................................................... 3\n",
      "2. Vorgehensweise ............................................................................................................................ 6\n",
      "AP 0: Projektsteuerung ................................................................................................................... 6\n",
      "AP 1: Präzisierung des Forschungsdesigns (PM 1-2) .................................................................... 8\n",
      "AP 2: Möglichkeiten, Herausforderungen und Grenzen digitaler Beteiligung (PM 3-7) ................ 10\n",
      "AP 3: Wirkungsstudie digitaler Beteiligung junger Generationen (PM 8-12) ................................ 14\n",
      "AP 3.1. Konkretisierung des Forschungsdesigns (PM 8) ................................................... 15\n",
      "AP 3.2. Durchführung der Wirkungsstudie (PM 9-10) ........................................................ 16\n",
      "AP 3.3. Auswertung der Daten (PM 11-12) ........................................................................ 17\n",
      "AP 3.4. Ergebniszusammenfassung (Ende PM 12) ........................................................... 18\n",
      "AP 4: Transdisziplinärer Workshop mit Expert:innen digitaler Beteiligung (PM 13-15) ................ 18\n",
      "AP 5: Abschlussbericht (PM 16-18) .............................................................................................. 22\n",
      "AP 6: Präsentation (PM 18) ........................................................................................................... 24\n",
      "3. Zeit- und Arbeitsplan .................................................................................................................. 26\n",
      "4. Gesamtkalkulation inkl. Kalkulation für jedes AP ................................................................... 27\n",
      "5. Profil des Auftragnehmers / Nachweis der Eignung ............................................................... 28\n",
      "6. Anhang ......................................................................................................................................... 46\n",
      "Angebot: DigiBeSt | FKZ 4721E03260 | Bundesamt für die Sicherheit der nuklearen Entsorgung (BASE)\n"
     ]
    }
   ],
   "source": [
    "#print(text) entkommentieren, falls man den output testen will"
   ]
  },
  {
   "cell_type": "code",
   "execution_count": 8,
   "metadata": {},
   "outputs": [],
   "source": [
    "# Regex für den ersten Abschnitt\n",
    "first_pattern = r\"^(?:(1(?:\\.\\d+)*\\.?|AP 1(?:\\.\\d+)*\\.?|AP 0\\.?)(?:[.:]?)\\s+([^\\.\\n]+))\"\n",
    "\n",
    "\n",
    "#Extrahieren der Abschnittsnamen im Inhaltsverzeichnis\n",
    "# Regex für den ersten Abschnitt\n",
    "first_pattern = r\"^(?:(1(?:\\.\\d+)*\\.?|AP 1(?:\\.\\d+)*\\.?|AP 0\\.?)(?:[.:]?)\\s+([^\\.\\n]+))\"\n",
    "\n",
    "# Regex für alle weiteren Abschnitte\n",
    "subsequent_pattern = r\"^(?:(\\d+\\.\\d*|AP \\d+\\.\\d*|AP \\d+:[.:]?|\\d+)[.:]?)\\s+([^\\.\\n]+)\"\n",
    "\n",
    "# Suche nach dem ersten Abschnitt\n",
    "first_match = re.search(first_pattern, text, re.MULTILINE)\n",
    "\n",
    "# Wenn der erste Match gefunden wurde, verarbeite die restlichen\n",
    "if first_match:\n",
    "    abschnitte = [f\"{first_match.group(1).strip()} {first_match.group(2).strip()}\"]\n",
    "    \n",
    "    # Schneide den Text ab dem ersten Match ab und suche nach den weiteren Abschnitten\n",
    "    remaining_text = text[first_match.end():]\n",
    "    subsequent_matches = re.findall(subsequent_pattern, remaining_text, re.MULTILINE)\n",
    "    \n",
    "    # Füge die restlichen Abschnitte hinzu\n",
    "    abschnitte.extend([f\"{num.strip()} {name.strip()}\" for num, name in subsequent_matches])\n",
    "else:\n",
    "    abschnitte = []  # Falls kein gültiger erster Abschnitt gefunden wird"
   ]
  },
  {
   "cell_type": "code",
   "execution_count": 9,
   "metadata": {},
   "outputs": [
    {
     "name": "stdout",
     "output_type": "stream",
     "text": [
      "['1. Gegenstand des Angebots', '2. Vorgehensweise', 'AP 0: Projektsteuerung', 'AP 1: Präzisierung des Forschungsdesigns (PM 1-2)', 'AP 2: Möglichkeiten, Herausforderungen und Grenzen digitaler Beteiligung (PM 3-7)', 'AP 3: Wirkungsstudie digitaler Beteiligung junger Generationen (PM 8-12)', 'AP 3.1 Konkretisierung des Forschungsdesigns (PM 8)', 'AP 3.2 Durchführung der Wirkungsstudie (PM 9-10)', 'AP 3.3 Auswertung der Daten (PM 11-12)', 'AP 3.4 Ergebniszusammenfassung (Ende PM 12)', 'AP 4: Transdisziplinärer Workshop mit Expert:innen digitaler Beteiligung (PM 13-15)', 'AP 5: Abschlussbericht (PM 16-18)', 'AP 6: Präsentation (PM 18)', '3. Zeit- und Arbeitsplan', '4. Gesamtkalkulation inkl', '5. Profil des Auftragnehmers / Nachweis der Eignung', '6. Anhang']\n"
     ]
    }
   ],
   "source": [
    "#print(abschnitte) entkommentieren falls man testen will was gefunden wurde"
   ]
  },
  {
   "cell_type": "code",
   "execution_count": null,
   "metadata": {},
   "outputs": [],
   "source": [
    "###PDF Aufräumen und Abschnitte extrahieren###\n",
    "\n",
    "#Funktion um alles bis nach dem Innhaltsverzeichnis aus der pdf datei zu löschen, damit Inhaltsverzeichnis nicht erneut extrahiert wird\n",
    "def remove_pages_before_contents(pdf_path, output_path, contents_start_page=1):\n",
    "    \"\"\"\n",
    "    Remove pages before the content starts (after the table of contents).\n",
    "    \n",
    "    :param pdf_path: Path to the original PDF file.\n",
    "    :param output_path: Path to save the new PDF file without the first pages.\n",
    "    :param contents_start_page: The page number (0-indexed) where the content starts.\n",
    "    :return: None\n",
    "    \"\"\"\n",
    "    reader = PdfReader(pdf_path)\n",
    "    writer = PdfWriter()\n",
    "\n",
    "    # Add pages starting from the contents_start_page to the new PDF\n",
    "    for page_num in range(contents_start_page, len(reader.pages)):\n",
    "        writer.add_page(reader.pages[page_num])\n",
    "\n",
    "    # Write the new PDF to the output path\n",
    "    with open(output_path, \"wb\") as output_pdf:\n",
    "        writer.write(output_pdf)\n",
    "\n",
    "    print(f\"New PDF saved to: {output_path}\")\n",
    "\n",
    "#Funktion um die einzelnen Abschnitte zu finden und zu extrahieren\n",
    "def extract_sections_from_pdf(pdf_path, sections):\n",
    "    \"\"\"\n",
    "    Extract specified sections from a PDF file, starting at the match's start.\n",
    "\n",
    "    :param pdf_path: Path to the PDF file.\n",
    "    :param sections: List of section headings to extract.\n",
    "    :return: Dictionary with section headings as keys and extracted text as values.\n",
    "    \"\"\"\n",
    "    # Read the PDF\n",
    "    reader = PdfReader(pdf_path)\n",
    "    text = \"\"\n",
    "\n",
    "    # Combine text from all pages\n",
    "    for page in reader.pages:\n",
    "        text += page.extract_text()\n",
    "\n",
    "    # Prepare a regex pattern to match sections\n",
    "    sections_pattern = [re.escape(sec).replace(r'\\ ', r'\\s+') for sec in sections]\n",
    "    regex = re.compile(f\"({'|'.join(sections_pattern)})\", re.MULTILINE)\n",
    "\n",
    "\n",
    "    # Find matches and extract content\n",
    "    matches = list(regex.finditer(text))\n",
    "    extracted_sections = {}\n",
    "\n",
    "\n",
    "    # Loop through the matches to extract text for each section\n",
    "    for i, match in enumerate(matches):\n",
    "        start = match.start()  # Start from the beginning of the match\n",
    "\n",
    "        # Define the end position as the start of the next section or the end of the text\n",
    "        end = matches[i + 1].start() if i + 1 < len(matches) else len(text)\n",
    "\n",
    "        # Extract the text for this section\n",
    "        section_text = text[start:end].strip()\n",
    "\n",
    "        # Store the extracted section text\n",
    "        extracted_sections[match.group()] = section_text\n",
    "\n",
    "    return extracted_sections\n",
    "\n",
    "pdf_path = file_path\n",
    "new_pdf_path = \"data/cleaned_pdf.pdf\"  # New PDF after removing pages up to the contents\n",
    "sections = abschnitte  # Liste der Abschnitte, die du extrahieren möchtest"
   ]
  },
  {
   "cell_type": "code",
   "execution_count": null,
   "metadata": {},
   "outputs": [],
   "source": [
    "# Call Funktion to remove pages before the table of contents\n",
    "remove_pages_before_contents(pdf_path, new_pdf_path, contents_start_page=2)  # Page 1 is the second page - Aktuell noch manuell die passende Seite eingegeben"
   ]
  },
  {
   "cell_type": "code",
   "execution_count": null,
   "metadata": {},
   "outputs": [],
   "source": [
    "# Extract sections from the cleaned PDF\n",
    "extracted_sections = extract_sections_from_pdf(new_pdf_path, abschnitte)"
   ]
  },
  {
   "cell_type": "code",
   "execution_count": null,
   "metadata": {},
   "outputs": [],
   "source": [
    "#Funktion um die extrahierten abschnitte in textdateien zu speichern\n",
    "def save_sections_as_text_files(extracted_sections, output_directory):\n",
    "    \"\"\"\n",
    "    Saves each section as a separate text file in the specified directory.\n",
    "    \n",
    "    :param extracted_sections: Dictionary with section names as keys and content as values.\n",
    "    :param output_directory: Directory where the text files will be saved.\n",
    "    \"\"\"\n",
    "    # Ensure the output directory exists\n",
    "    if not os.path.exists(output_directory):\n",
    "        os.makedirs(output_directory)\n",
    "\n",
    "    for section, content in extracted_sections.items():\n",
    "        # Sanitize the section name to make it a valid filename\n",
    "        filename = re.sub(r'[\\\\/*?:\"<>|]', \"_\", section)  # Replace invalid characters with underscores\n",
    "        file_path = os.path.join(output_directory, f\"{filename}.txt\")\n",
    "\n",
    "        # Write the content into the file\n",
    "        with open(file_path, 'w', encoding='utf-8') as file:\n",
    "            file.write(content)\n",
    "\n",
    "        print(f\"Section '{section}' saved to '{file_path}'\")\n",
    "\n",
    "\n",
    "output_directory = \"extracted_sections\"  # Directory to save the text files\n",
    "\n",
    "# Funktions aufrufen, um die Abschnitte in Textdateien zu speichern\n",
    "save_sections_as_text_files(extracted_sections, output_directory)"
   ]
  }
 ],
 "metadata": {
  "kernelspec": {
   "display_name": ".venv",
   "language": "python",
   "name": "python3"
  },
  "language_info": {
   "codemirror_mode": {
    "name": "ipython",
    "version": 3
   },
   "file_extension": ".py",
   "mimetype": "text/x-python",
   "name": "python",
   "nbconvert_exporter": "python",
   "pygments_lexer": "ipython3",
   "version": "3.13.1"
  }
 },
 "nbformat": 4,
 "nbformat_minor": 2
}
