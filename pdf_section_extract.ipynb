{
 "cells": [
  {
   "cell_type": "code",
   "execution_count": 108,
   "metadata": {},
   "outputs": [],
   "source": [
    "file_path = \"/17-nachhaltigkeitsziele-in-berlin.pdf\""
   ]
  },
  {
   "cell_type": "code",
   "execution_count": 109,
   "metadata": {},
   "outputs": [],
   "source": [
    "#start here\n",
    "import pdfplumber\n",
    "\n",
    "def extract_text_from_pdf(file_path):\n",
    "    with pdfplumber.open(file_path) as pdf:\n",
    "        for page in pdf.pages:\n",
    "            text = page.extract_text()\n",
    "            # Hier kannst du nach dem Text \"Vorhabensbeschreibung\" suchen\n",
    "            if \"Inhalt\" in text:\n",
    "                return text.split(\"Inhalt\")[1]\n",
    "    return None\n",
    "\n",
    "#file_path = 'data/Angebot_DigiBeSt_DIID_nexus_17.09.2021.pdf'\n",
    "text = extract_text_from_pdf(file_path)"
   ]
  },
  {
   "cell_type": "code",
   "execution_count": 110,
   "metadata": {},
   "outputs": [],
   "source": [
    "import pdfplumber\n",
    "\n",
    "def extract_text_from_pdf(file_path):\n",
    "    with pdfplumber.open(file_path) as pdf:\n",
    "        for page in pdf.pages:\n",
    "            text = page.extract_text()\n",
    "            # Hier kannst du nach dem Text suchen\n",
    "            if \"Inhalt\" in text:\n",
    "                return text.split(\"Inhalt\")[1]\n",
    "    return None\n",
    "\n",
    "text = extract_text_from_pdf(file_path)"
   ]
  },
  {
   "cell_type": "code",
   "execution_count": 111,
   "metadata": {},
   "outputs": [
    {
     "name": "stdout",
     "output_type": "stream",
     "text": [
      "\n",
      "1 Annahmen intersubjektiv und divers berücksichtigen ..................................................... 1\n",
      "2 Vorhabensbeschreibung ................................................................................................. 1\n",
      "2.1 Detailkonzeption des Partizipationsprozesses ......................................................... 1\n",
      "2.2 Umsetzung von vier Stakeholder-Workshops .......................................................... 2\n",
      "2.3 Testung des Chatbots (MVP) mit Stakeholdern ....................................................... 3\n",
      "2.4 Unterstützung der Überführung in nachhaltigen Prozess ......................................... 4\n",
      "3 Kalkulation ...................................................................................................................... 5\n",
      "4 Beschreibung des Bieters ............................................................................................... 5\n",
      "4.1 Team ....................................................................................................................... 6\n",
      "Dr. Daniel Guagnin ......................................................................................................... 6\n",
      "Matthias Bottel ............................................................................................................... 6\n",
      "Antonios Hazim .............................................................................................................. 7\n",
      "5 Referenzen ..................................................................................................................... 7\n",
      "6 Schluss .......................................................................................................................... 9\n",
      "I\n"
     ]
    }
   ],
   "source": [
    "print(text)"
   ]
  },
  {
   "cell_type": "code",
   "execution_count": 112,
   "metadata": {},
   "outputs": [],
   "source": [
    "import re\n",
    "\n",
    "# Regex für die Extraktion der Abschnittsnummern und -namen\n",
    "#pattern = r\"^(\\d+(?:\\.\\d+)?)\\s+([^\\.\\n]+)\"\n",
    "#pattern = r\"^(?:\\d+|AP \\d+(?:\\.\\d+)?)[:.]?\\s+([^\\.]+)\"\n",
    "#pattern = r\"^(?P<num>(?:\\d+|AP \\d+(?:\\.\\d+)?))[:.]?\\s+(?P<name>[^\\.\\n]+)\"\n",
    "#pattern = r\"^(?:(\\d+\\.\\d*|AP \\d+\\.\\d*|\\d+|AP \\d+)[.:]?)\\s+([^\\.\\n]+)\"\n",
    "#pattern = r\"^(?:(1(?:\\.\\d+)*|AP 1(?:\\.\\d+)*|AP 0)(?:[.:]?)\\s+([^\\.\\n]+))\"\n",
    "\n",
    "\n",
    "# Suche nach Übereinstimmungen\n",
    "matches = re.findall(pattern, text, re.MULTILINE)\n",
    "\n",
    "# Ergebnis ausgeben\n",
    "#abschnitte = [match.strip() for match in matches]\n",
    "abschnitte = [f\"{num} {name.strip()}\" for num, name in matches]"
   ]
  },
  {
   "cell_type": "code",
   "execution_count": 113,
   "metadata": {},
   "outputs": [],
   "source": [
    "# Regex für den ersten Abschnitt\n",
    "first_pattern = r\"^(?:(1(?:\\.\\d+)*\\.?|AP 1(?:\\.\\d+)*\\.?|AP 0\\.?)(?:[.:]?)\\s+([^\\.\\n]+))\"\n",
    "\n",
    "\n",
    "# Regex für alle weiteren Abschnitte\n",
    "#subsequent_pattern = r\"^(?:(\\d+\\.\\d*|AP \\d+\\.\\d*|\\d+|AP \\d+)[.:]?)\\s+([^\\.\\n]+)\"\n",
    "subsequent_pattern = r\"^(?:(\\d+\\.\\d*|AP \\d+\\.\\d*|AP \\d+:[.:]?|\\d+)[.:]?)\\s+([^\\.\\n]+)\"\n",
    "\n",
    "# Suche nach dem ersten Abschnitt\n",
    "first_match = re.search(first_pattern, text, re.MULTILINE)\n",
    "\n",
    "# Wenn der erste Match gefunden wurde, verarbeite die restlichen\n",
    "if first_match:\n",
    "    abschnitte = [f\"{first_match.group(1).strip()} {first_match.group(2).strip()}\"]\n",
    "    \n",
    "    # Schneide den Text ab dem ersten Match ab und suche nach den weiteren Abschnitten\n",
    "    remaining_text = text[first_match.end():]\n",
    "    subsequent_matches = re.findall(subsequent_pattern, remaining_text, re.MULTILINE)\n",
    "    \n",
    "    # Füge die restlichen Abschnitte hinzu\n",
    "    abschnitte.extend([f\"{num.strip()} {name.strip()}\" for num, name in subsequent_matches])\n",
    "else:\n",
    "    abschnitte = []  # Falls kein gültiger erster Abschnitt gefunden wird\n"
   ]
  },
  {
   "cell_type": "code",
   "execution_count": 114,
   "metadata": {},
   "outputs": [
    {
     "name": "stdout",
     "output_type": "stream",
     "text": [
      "['1 Annahmen intersubjektiv und divers berücksichtigen', '2 Vorhabensbeschreibung', '2.1 Detailkonzeption des Partizipationsprozesses', '2.2 Umsetzung von vier Stakeholder-Workshops', '2.3 Testung des Chatbots (MVP) mit Stakeholdern', '2.4 Unterstützung der Überführung in nachhaltigen Prozess', '3 Kalkulation', '4 Beschreibung des Bieters', '4.1 Team', '5 Referenzen', '6 Schluss']\n"
     ]
    }
   ],
   "source": [
    "print(abschnitte)"
   ]
  },
  {
   "cell_type": "code",
   "execution_count": 115,
   "metadata": {},
   "outputs": [
    {
     "name": "stdout",
     "output_type": "stream",
     "text": [
      "New PDF saved to: data/cleaned_pdf.pdf\n",
      "<PyPDF2._reader.PdfReader object at 0x115645750>\n"
     ]
    }
   ],
   "source": [
    "#main works\n",
    "\n",
    "from PyPDF2 import PdfReader, PdfWriter\n",
    "import re\n",
    "\n",
    "def remove_pages_before_contents(pdf_path, output_path, contents_start_page=1):\n",
    "    \"\"\"\n",
    "    Remove pages before the content starts (after the table of contents).\n",
    "    \n",
    "    :param pdf_path: Path to the original PDF file.\n",
    "    :param output_path: Path to save the new PDF file without the first pages.\n",
    "    :param contents_start_page: The page number (0-indexed) where the content starts.\n",
    "    :return: None\n",
    "    \"\"\"\n",
    "    reader = PdfReader(pdf_path)\n",
    "    writer = PdfWriter()\n",
    "\n",
    "    # Add pages starting from the contents_start_page to the new PDF\n",
    "    for page_num in range(contents_start_page, len(reader.pages)):\n",
    "        writer.add_page(reader.pages[page_num])\n",
    "\n",
    "    # Write the new PDF to the output path\n",
    "    with open(output_path, \"wb\") as output_pdf:\n",
    "        writer.write(output_pdf)\n",
    "\n",
    "    print(f\"New PDF saved to: {output_path}\")\n",
    "\n",
    "def extract_sections_from_pdf(pdf_path, sections):\n",
    "    \"\"\"\n",
    "    Extract specified sections from a PDF file, starting at the match's start.\n",
    "\n",
    "    :param pdf_path: Path to the PDF file.\n",
    "    :param sections: List of section headings to extract.\n",
    "    :return: Dictionary with section headings as keys and extracted text as values.\n",
    "    \"\"\"\n",
    "    # Read the PDF\n",
    "    reader = PdfReader(pdf_path)\n",
    "    text = \"\"\n",
    "    print(reader)\n",
    "\n",
    "    # Combine text from all pages\n",
    "    for page in reader.pages:\n",
    "        text += page.extract_text()\n",
    "\n",
    "    # Prepare a regex pattern to match sections\n",
    "    sections_pattern = [re.escape(sec).replace(r'\\ ', r'\\s+') for sec in sections]\n",
    "    regex = re.compile(f\"({'|'.join(sections_pattern)})\", re.MULTILINE)\n",
    "\n",
    "\n",
    "    # Find matches and extract content\n",
    "    matches = list(regex.finditer(text))\n",
    "    extracted_sections = {}\n",
    "\n",
    "\n",
    "    # Loop through the matches to extract text for each section\n",
    "    for i, match in enumerate(matches):\n",
    "        start = match.start()  # Start from the beginning of the match\n",
    "\n",
    "        # Define the end position as the start of the next section or the end of the text\n",
    "        end = matches[i + 1].start() if i + 1 < len(matches) else len(text)\n",
    "\n",
    "        # Extract the text for this section\n",
    "        section_text = text[start:end].strip()\n",
    "\n",
    "        # Store the extracted section text\n",
    "        extracted_sections[match.group()] = section_text\n",
    "\n",
    "    return extracted_sections\n",
    "\n",
    "# Example usage\n",
    "pdf_path = file_path #\"data/Aufstockungsangebot FKZ 3719 15 104 0 _030821.pdf\"\n",
    "new_pdf_path = \"data/cleaned_pdf.pdf\"  # New PDF after removing pages up to the contents\n",
    "sections = abschnitte  # Liste der Abschnitte, die du extrahieren möchtest\n",
    "# Remove pages before the table of contents\n",
    "remove_pages_before_contents(pdf_path, new_pdf_path, contents_start_page=2)  # Page 1 is the second page\n",
    "\n",
    "# Extract sections from the cleaned PDF\n",
    "extracted_sections = extract_sections_from_pdf(new_pdf_path, abschnitte)\n",
    "\n",
    "# Output the extracted sections\n",
    "#for section, content in extracted_sections.items():\n",
    "#    print(f\"Section: {section}\\nContent:\\n{content}\\n{'-'*40}\\n\")\n"
   ]
  },
  {
   "cell_type": "code",
   "execution_count": 116,
   "metadata": {},
   "outputs": [
    {
     "name": "stdout",
     "output_type": "stream",
     "text": [
      "Section '1 Annahmen  intersubjektiv und divers berücksichtigen' saved to 'extracted_sections/1 Annahmen  intersubjektiv und divers berücksichtigen.txt'\n",
      "Section '2 Vorhabensbeschreibung' saved to 'extracted_sections/2 Vorhabensbeschreibung.txt'\n",
      "Section '2.3 Testung des Chatbots (MVP) mit Stakeholdern' saved to 'extracted_sections/2.3 Testung des Chatbots (MVP) mit Stakeholdern.txt'\n",
      "Section '3 Kalkulation' saved to 'extracted_sections/3 Kalkulation.txt'\n",
      "Section '4 Beschreibung des Bieters' saved to 'extracted_sections/4 Beschreibung des Bieters.txt'\n",
      "Section '4.1 Team' saved to 'extracted_sections/4.1 Team.txt'\n",
      "Section '6 Schluss' saved to 'extracted_sections/6 Schluss.txt'\n"
     ]
    }
   ],
   "source": [
    "import re\n",
    "import os\n",
    "\n",
    "def save_sections_as_text_files(extracted_sections, output_directory):\n",
    "    \"\"\"\n",
    "    Saves each section as a separate text file in the specified directory.\n",
    "    \n",
    "    :param extracted_sections: Dictionary with section names as keys and content as values.\n",
    "    :param output_directory: Directory where the text files will be saved.\n",
    "    \"\"\"\n",
    "    # Ensure the output directory exists\n",
    "    if not os.path.exists(output_directory):\n",
    "        os.makedirs(output_directory)\n",
    "\n",
    "    for section, content in extracted_sections.items():\n",
    "        # Sanitize the section name to make it a valid filename\n",
    "        filename = re.sub(r'[\\\\/*?:\"<>|]', \"_\", section)  # Replace invalid characters with underscores\n",
    "        file_path = os.path.join(output_directory, f\"{filename}.txt\")\n",
    "\n",
    "        # Write the content into the file\n",
    "        with open(file_path, 'w', encoding='utf-8') as file:\n",
    "            file.write(content)\n",
    "\n",
    "        print(f\"Section '{section}' saved to '{file_path}'\")\n",
    "\n",
    "# Example usage (after extracting sections):\n",
    "output_directory = \"extracted_sections\"  # Directory to save the text files\n",
    "\n",
    "# Assuming extracted_sections is the dictionary with section names and content\n",
    "# Example extracted_sections dictionary (for testing):\n",
    "\n",
    "# Save the sections as text files\n",
    "save_sections_as_text_files(extracted_sections, output_directory)\n"
   ]
  }
 ],
 "metadata": {
  "kernelspec": {
   "display_name": ".venv",
   "language": "python",
   "name": "python3"
  },
  "language_info": {
   "codemirror_mode": {
    "name": "ipython",
    "version": 3
   },
   "file_extension": ".py",
   "mimetype": "text/x-python",
   "name": "python",
   "nbconvert_exporter": "python",
   "pygments_lexer": "ipython3",
   "version": "3.10.4"
  }
 },
 "nbformat": 4,
 "nbformat_minor": 2
}
