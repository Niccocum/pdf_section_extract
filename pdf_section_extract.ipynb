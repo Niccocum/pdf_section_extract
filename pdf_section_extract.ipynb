{
 "cells": [
  {
   "cell_type": "code",
   "execution_count": 23,
   "metadata": {},
   "outputs": [
    {
     "name": "stderr",
     "output_type": "stream",
     "text": [
      "<>:1: SyntaxWarning: invalid escape sequence '\\A'\n",
      "<>:1: SyntaxWarning: invalid escape sequence '\\A'\n",
      "C:\\Users\\nicola.rudow\\AppData\\Local\\Temp\\ipykernel_9780\\2878942513.py:1: SyntaxWarning: invalid escape sequence '\\A'\n",
      "  file_path = \"data\\Angebot_BfS 5G_nexus_Kantar.pdf\"\n"
     ]
    }
   ],
   "source": [
    "file_path = \"data\\Angebot_BfS 5G_nexus_Kantar.pdf\""
   ]
  },
  {
   "cell_type": "code",
   "execution_count": 24,
   "metadata": {},
   "outputs": [],
   "source": [
    "import pdfplumber\n",
    "import re\n",
    "import os\n",
    "from PyPDF2 import PdfReader, PdfWriter"
   ]
  },
  {
   "cell_type": "code",
   "execution_count": 25,
   "metadata": {},
   "outputs": [],
   "source": [
    "\n",
    "def extract_text_and_toc_end_page(file_path):\n",
    "    def is_toc_page(text):\n",
    "        lines = text.splitlines()\n",
    "        toc_like_lines = [line for line in lines if \"...\" in line or re.match(r'.*\\d+$', line.strip())]\n",
    "        return len(toc_like_lines) > len(lines) * 0.5\n",
    "\n",
    "    def is_significant_content(text):\n",
    "        lines = text.splitlines()\n",
    "        long_lines = [line for line in lines if len(line) > 50]\n",
    "        return len(long_lines) > len(lines) * 0.5\n",
    "\n",
    "    with pdfplumber.open(file_path) as pdf:\n",
    "        toc_text = \"\"\n",
    "        toc_end_page = None\n",
    "\n",
    "        for i, page in enumerate(pdf.pages):\n",
    "            text = page.extract_text()\n",
    "            if text and \"Inhalt\" in text:\n",
    "                toc_text += text.split(\"Inhalt\", 1)[1]\n",
    "\n",
    "                for j in range(i + 1, len(pdf.pages)):\n",
    "                    next_page_text = pdf.pages[j].extract_text()\n",
    "                    if next_page_text:\n",
    "                        if is_significant_content(next_page_text):\n",
    "                            toc_end_page = j\n",
    "                            break\n",
    "                        if not is_toc_page(next_page_text):\n",
    "                            toc_end_page = j\n",
    "                            break\n",
    "                        toc_text += next_page_text\n",
    "                    else:\n",
    "                        toc_end_page = j\n",
    "                        break\n",
    "\n",
    "                if toc_end_page is None:\n",
    "                    toc_end_page = len(pdf.pages) - 1\n",
    "\n",
    "                return toc_text, toc_end_page\n",
    "\n",
    "    return None, None\n"
   ]
  },
  {
   "cell_type": "code",
   "execution_count": 26,
   "metadata": {},
   "outputs": [],
   "source": [
    "text, end_page = extract_text_and_toc_end_page(file_path)"
   ]
  },
  {
   "cell_type": "code",
   "execution_count": 27,
   "metadata": {},
   "outputs": [],
   "source": [
    "#print(end_page) #entkommentieren um Ende zu testen"
   ]
  },
  {
   "cell_type": "code",
   "execution_count": 28,
   "metadata": {},
   "outputs": [],
   "source": [
    "#print(text) #entkommentieren, falls man den output testen will"
   ]
  },
  {
   "cell_type": "code",
   "execution_count": 29,
   "metadata": {},
   "outputs": [],
   "source": [
    "# Regex für den ersten Abschnitt\n",
    "first_pattern = r\"^(?:(1(?:\\.\\d+)*\\.?|AP 1(?:\\.\\d+)*\\.?|AP 0\\.?)(?:[.:]?)\\s+([^\\.\\n]+))\"\n",
    "\n",
    "\n",
    "#Extrahieren der Abschnittsnamen im Inhaltsverzeichnis\n",
    "# Regex für den ersten Abschnitt\n",
    "first_pattern = r\"^(?:(1(?:\\.\\d+)*\\.?|AP 1(?:\\.\\d+)*\\.?|AP 0\\.?)(?:[.:]?)\\s+([^\\.\\n]+))\"\n",
    "\n",
    "# Regex für alle weiteren Abschnitte\n",
    "subsequent_pattern = r\"^(?:(\\d+\\.\\d*|AP \\d+\\.\\d*|AP \\d+:[.:]?|\\d+)[.:]?)\\s+([^\\.\\n]+)\"\n",
    "\n",
    "# Suche nach dem ersten Abschnitt\n",
    "first_match = re.search(first_pattern, text, re.MULTILINE)\n",
    "\n",
    "# Wenn der erste Match gefunden wurde, verarbeite die restlichen\n",
    "if first_match:\n",
    "    abschnitte = [f\"{first_match.group(1).strip()} {first_match.group(2).strip()}\"]\n",
    "    \n",
    "    # Schneide den Text ab dem ersten Match ab und suche nach den weiteren Abschnitten\n",
    "    remaining_text = text[first_match.end():]\n",
    "    subsequent_matches = re.findall(subsequent_pattern, remaining_text, re.MULTILINE)\n",
    "    \n",
    "    # Füge die restlichen Abschnitte hinzu\n",
    "    abschnitte.extend([f\"{num.strip()} {name.strip()}\" for num, name in subsequent_matches])\n",
    "else:\n",
    "    abschnitte = []  # Falls kein gültiger erster Abschnitt gefunden wird"
   ]
  },
  {
   "cell_type": "code",
   "execution_count": 30,
   "metadata": {},
   "outputs": [],
   "source": [
    "#print(abschnitte) #entkommentieren falls man testen will was gefunden wurde"
   ]
  },
  {
   "cell_type": "code",
   "execution_count": 31,
   "metadata": {},
   "outputs": [],
   "source": [
    "###PDF Aufräumen und Abschnitte extrahieren###\n",
    "\n",
    "#Funktion um alles bis nach dem Innhaltsverzeichnis aus der pdf datei zu löschen, damit Inhaltsverzeichnis nicht erneut extrahiert wird\n",
    "def remove_pages_before_contents(pdf_path, output_path, contents_start_page=end_page):\n",
    "    \"\"\"\n",
    "    Remove pages before the content starts (after the table of contents).\n",
    "    \n",
    "    :param pdf_path: Path to the original PDF file.\n",
    "    :param output_path: Path to save the new PDF file without the first pages.\n",
    "    :param contents_start_page: The page number (0-indexed) where the content starts.\n",
    "    :return: None\n",
    "    \"\"\"\n",
    "    reader = PdfReader(pdf_path)\n",
    "    writer = PdfWriter()\n",
    "\n",
    "    # Add pages starting from the contents_start_page to the new PDF\n",
    "    for page_num in range(contents_start_page, len(reader.pages)):\n",
    "        writer.add_page(reader.pages[page_num])\n",
    "\n",
    "    # Write the new PDF to the output path\n",
    "    with open(output_path, \"wb\") as output_pdf:\n",
    "        writer.write(output_pdf)\n",
    "\n",
    "    print(f\"New PDF saved to: {output_path}\")\n",
    "\n",
    "#Funktion um die einzelnen Abschnitte zu finden und zu extrahieren\n",
    "def extract_sections_from_pdf(pdf_path, sections):\n",
    "    \"\"\"\n",
    "    Extract specified sections from a PDF file, starting at the match's start.\n",
    "\n",
    "    :param pdf_path: Path to the PDF file.\n",
    "    :param sections: List of section headings to extract.\n",
    "    :return: Dictionary with section headings as keys and extracted text as values.\n",
    "    \"\"\"\n",
    "    # Read the PDF\n",
    "    reader = PdfReader(pdf_path)\n",
    "    text = \"\"\n",
    "\n",
    "    # Combine text from all pages\n",
    "    for page in reader.pages:\n",
    "        text += page.extract_text()\n",
    "\n",
    "    # Prepare a regex pattern to match sections\n",
    "    sections_pattern = [re.escape(sec).replace(r'\\ ', r'\\s+') for sec in sections]\n",
    "    regex = re.compile(f\"({'|'.join(sections_pattern)})\", re.MULTILINE)\n",
    "\n",
    "\n",
    "    # Find matches and extract content\n",
    "    matches = list(regex.finditer(text))\n",
    "    extracted_sections = {}\n",
    "\n",
    "\n",
    "    # Loop through the matches to extract text for each section\n",
    "    for i, match in enumerate(matches):\n",
    "        start = match.start()  # Start from the beginning of the match\n",
    "\n",
    "        # Define the end position as the start of the next section or the end of the text\n",
    "        end = matches[i + 1].start() if i + 1 < len(matches) else len(text)\n",
    "\n",
    "        # Extract the text for this section\n",
    "        section_text = text[start:end].strip()\n",
    "\n",
    "        # Store the extracted section text\n",
    "        extracted_sections[match.group()] = section_text\n",
    "\n",
    "    return extracted_sections\n",
    "\n",
    "pdf_path = file_path\n",
    "new_pdf_path = \"data/cleaned_pdf.pdf\"  # New PDF after removing pages up to the contents\n",
    "sections = abschnitte  # Liste der Abschnitte, die du extrahieren möchtest"
   ]
  },
  {
   "cell_type": "code",
   "execution_count": 32,
   "metadata": {},
   "outputs": [
    {
     "name": "stdout",
     "output_type": "stream",
     "text": [
      "New PDF saved to: data/cleaned_pdf.pdf\n"
     ]
    }
   ],
   "source": [
    "# Call Funktion to remove pages before the table of contents\n",
    "remove_pages_before_contents(pdf_path, new_pdf_path) "
   ]
  },
  {
   "cell_type": "code",
   "execution_count": 33,
   "metadata": {},
   "outputs": [],
   "source": [
    "# Extract sections from the cleaned PDF\n",
    "extracted_sections = extract_sections_from_pdf(new_pdf_path, abschnitte)"
   ]
  },
  {
   "cell_type": "code",
   "execution_count": null,
   "metadata": {},
   "outputs": [],
   "source": []
  },
  {
   "cell_type": "code",
   "execution_count": 34,
   "metadata": {},
   "outputs": [],
   "source": [
    "#Funktion um die extrahierten abschnitte in textdateien zu speichern\n",
    "def save_sections_as_text_files(extracted_sections, output_directory):\n",
    "    \"\"\"\n",
    "    Saves each section as a separate text file in the specified directory.\n",
    "    \n",
    "    :param extracted_sections: Dictionary with section names as keys and content as values.\n",
    "    :param output_directory: Directory where the text files will be saved.\n",
    "    \"\"\"\n",
    "    # Ensure the output directory exists\n",
    "    if not os.path.exists(output_directory):\n",
    "        os.makedirs(output_directory)\n",
    "\n",
    "    for section, content in extracted_sections.items():\n",
    "        # Sanitize the section name to make it a valid filename\n",
    "        filename = re.sub(r'[\\\\/*?:\"<>|]', \"_\", section)  # Replace invalid characters with underscores\n",
    "        file_path = os.path.join(output_directory, f\"{filename}.txt\")\n",
    "\n",
    "        # Write the content into the file\n",
    "        with open(file_path, 'w', encoding='utf-8') as file:\n",
    "            file.write(content)\n",
    "\n",
    "        print(f\"Section '{section}' saved to '{file_path}'\")\n",
    "\n",
    "\n",
    "output_directory = \"extracted_sections\"  # Directory to save the text files\n",
    "\n",
    "# Funktions aufrufen, um die Abschnitte in Textdateien zu speichern\n",
    "save_sections_as_text_files(extracted_sections, output_directory)"
   ]
  }
 ],
 "metadata": {
  "kernelspec": {
   "display_name": "nexus_laptop",
   "language": "python",
   "name": "python3"
  },
  "language_info": {
   "codemirror_mode": {
    "name": "ipython",
    "version": 3
   },
   "file_extension": ".py",
   "mimetype": "text/x-python",
   "name": "python",
   "nbconvert_exporter": "python",
   "pygments_lexer": "ipython3",
   "version": "3.13.1"
  }
 },
 "nbformat": 4,
 "nbformat_minor": 2
}
